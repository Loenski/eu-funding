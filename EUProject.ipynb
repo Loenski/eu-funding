{
  "nbformat": 4,
  "nbformat_minor": 0,
  "metadata": {
    "colab": {
      "provenance": []
    },
    "kernelspec": {
      "name": "python3",
      "display_name": "Python 3"
    },
    "language_info": {
      "name": "python"
    }
  },
  "cells": [
    {
      "cell_type": "code",
      "execution_count": 1,
      "metadata": {
        "id": "FC-lH7LaAueD"
      },
      "outputs": [],
      "source": [
        "# Import necessary libraries\n",
        "import pandas as pd\n",
        "import numpy as np\n",
        "import matplotlib.pyplot as plt\n",
        "import csv"
      ]
    },
    {
      "cell_type": "code",
      "source": [
        "# Read local .csv dataset\n",
        "source = pd.read_csv('EU_Database.csv')"
      ],
      "metadata": {
        "id": "LuRnzfp6A7OS"
      },
      "execution_count": 8,
      "outputs": []
    },
    {
      "cell_type": "code",
      "source": [
        "source"
      ],
      "metadata": {
        "id": "oMqPQjrkEVtG"
      },
      "execution_count": null,
      "outputs": []
    },
    {
      "cell_type": "code",
      "source": [
        "# Create 2 dictionaries, key is year, value is total funding each year\n",
        "# and total expense each year, respectively\n",
        "di_fund = {}\n",
        "di_spend = {}\n",
        "for i in range(len(source)):\n",
        "  if source.iloc[i]['Year'] not in di_fund:\n",
        "    di_fund[source.iloc[i]['Year']] = source.iloc[i]['EU_Payment_annual']\n",
        "  else:\n",
        "    di_fund[source.iloc[i]['Year']] += source.iloc[i]['EU_Payment_annual']\n",
        "  if source.iloc[i]['Year'] not in di_spend:\n",
        "    di_spend[source.iloc[i]['Year']] = source.iloc[i]['Modelled_annual_expenditure']\n",
        "  else:\n",
        "    di_spend[source.iloc[i]['Year']] += source.iloc[i]['Modelled_annual_expenditure']"
      ],
      "metadata": {
        "id": "ogx1SkltJAkm"
      },
      "execution_count": 10,
      "outputs": []
    },
    {
      "cell_type": "code",
      "source": [
        "di_fund"
      ],
      "metadata": {
        "id": "R6hpmcVyOYTv"
      },
      "execution_count": null,
      "outputs": []
    },
    {
      "cell_type": "code",
      "source": [
        "di_spend"
      ],
      "metadata": {
        "id": "auNXAoiWOw1y"
      },
      "execution_count": null,
      "outputs": []
    },
    {
      "cell_type": "code",
      "source": [
        "# Plot fund vs. year\n",
        "di_fund_names = sorted(list(di_fund.keys()))\n",
        "di_fund_values = sorted(list(di_fund.values()))\n",
        "\n",
        "plt.bar(range(len(di_fund)), di_fund_values, tick_label=di_fund_names)\n",
        "plt.xticks(rotation=45)\n",
        "plt.xlabel(\"Year\")\n",
        "plt.ylabel(\"Funding Amount\")\n",
        "plt.title('Funding vs Year')\n",
        "plt.show()"
      ],
      "metadata": {
        "colab": {
          "base_uri": "https://localhost:8080/",
          "height": 310
        },
        "id": "Qzr5_ePdO1ca",
        "outputId": "355a188b-2597-4191-d539-046c59a894ec"
      },
      "execution_count": 31,
      "outputs": [
        {
          "output_type": "display_data",
          "data": {
            "text/plain": [
              "<Figure size 432x288 with 1 Axes>"
            ],
            "image/png": "[encoded data removed]"
          },
          "metadata": {
            "needs_background": "light"
          }
        }
      ]
    },
    {
      "cell_type": "code",
      "source": [
        "# Plot spend vs. year\n",
        "di_spend_names = sorted(list(di_spend.keys()))\n",
        "di_spend_values = sorted(list(di_spend.values()))\n",
        "\n",
        "plt.bar(range(len(di_spend)), di_spend_values, tick_label=di_spend_names)\n",
        "plt.xticks(rotation=45)\n",
        "plt.xlabel(\"Year\")\n",
        "plt.ylabel(\"Spend Amount\")\n",
        "plt.title('Spend vs Year')\n",
        "plt.show()"
      ],
      "metadata": {
        "colab": {
          "base_uri": "https://localhost:8080/",
          "height": 310
        },
        "id": "p5uGZtX7PTLJ",
        "outputId": "b8debb27-4bc0-4ff1-cfe1-1fa4c0baca4e"
      },
      "execution_count": 32,
      "outputs": [
        {
          "output_type": "display_data",
          "data": {
            "text/plain": [
              "<Figure size 432x288 with 1 Axes>"
            ],
            "image/png": "[encoded data removed]"
          },
          "metadata": {
            "needs_background": "light"
          }
        }
      ]
    }
  ]
}